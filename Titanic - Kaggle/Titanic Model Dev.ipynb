{
 "cells": [
  {
   "cell_type": "markdown",
   "metadata": {},
   "source": [
    "# Kaggle Titanic Model\n"
   ]
  },
  {
   "cell_type": "code",
   "execution_count": null,
   "metadata": {},
   "outputs": [],
   "source": [
    "import tensorflow as tf\n",
    "import pandas as pd\n",
    "import numpy as np\n",
    "\n",
    "tf.enable_eager_execution\n",
    "print(tf.__version__)"
   ]
  },
  {
   "cell_type": "markdown",
   "metadata": {},
   "source": [
    "### Preprocess the data into X and Y arrays"
   ]
  },
  {
   "cell_type": "code",
   "execution_count": null,
   "metadata": {
    "scrolled": true
   },
   "outputs": [],
   "source": [
    "train_X = pd.DataFrame(pd.read_csv(\"train.csv\"), columns = ['PassengerId','Survived','Pclass','Name','Sex','Age','SibSp','Parch'\n",
    "                                                            ,'Ticket','Fare','Cabin','Embarked',])\n",
    "\n",
    "train_Y = train_X['Survived'].values\n",
    "\n",
    "train_X = train_X.drop(columns=['PassengerId','Survived','Name','Ticket','Cabin', 'Embarked'])\n",
    "\n",
    "train_X = train_X.values\n",
    "\n",
    "for i in range(891):\n",
    "    if train_X[i,1] == 'male':\n",
    "        train_X[i,1] = 1\n",
    "    else:\n",
    "        train_X[i,1] = 0\n",
    "    if np.isnan(train_X[i,2]) == True:\n",
    "        train_X[i,2] = 0\n",
    "        \n",
    "print(train_X[1:100,:])\n",
    "print(train_Y[1:100])"
   ]
  },
  {
   "cell_type": "markdown",
   "metadata": {},
   "source": [
    "### Build and train the Model"
   ]
  },
  {
   "cell_type": "code",
   "execution_count": null,
   "metadata": {
    "scrolled": true
   },
   "outputs": [],
   "source": [
    "name = \"Titanic_Test_\"\n",
    "\n",
    "model = tf.keras.models.Sequential()\n",
    "model.add(tf.keras.layers.Dense(128,activation='relu'))\n",
    "model.add(tf.keras.layers.Dense(64,activation='relu'))\n",
    "model.add(tf.keras.layers.Dense(64,activation='relu'))\n",
    "model.add(tf.keras.layers.Dense(1,activation='sigmoid'))\n",
    "\n",
    "model.compile(optimizer='adam',\n",
    "              loss='binary_crossentropy',\n",
    "              metrics=['accuracy'])\n",
    "\n",
    "model.fit(x=train_X, y=train_Y, epochs=175, validation_split= 0.2)\n"
   ]
  },
  {
   "cell_type": "markdown",
   "metadata": {},
   "source": [
    "#### Evaluate & Validate correct output"
   ]
  },
  {
   "cell_type": "code",
   "execution_count": null,
   "metadata": {},
   "outputs": [],
   "source": [
    "model.evaluate(train_X,train_Y)\n",
    "#model.predict(train_X)"
   ]
  },
  {
   "cell_type": "markdown",
   "metadata": {},
   "source": [
    "### Preprocess the Test data to feed to the model"
   ]
  },
  {
   "cell_type": "code",
   "execution_count": null,
   "metadata": {},
   "outputs": [],
   "source": [
    "test_X = pd.DataFrame(pd.read_csv(\"test.csv\"), columns = ['PassengerId','Pclass','Name','Sex','Age','SibSp','Parch'\n",
    "                                                            ,'Ticket','Fare','Cabin','Embarked',])\n",
    "\n",
    "#Setup predictions file\n",
    "predictfile = np.zeros(shape=(418,2))\n",
    "predictfile[:,0] = test_X['PassengerId']\n",
    "\n",
    "test_X = test_X.drop(columns=['PassengerId','Name','Ticket','Cabin', 'Embarked'])\n",
    "\n",
    "test_X = test_X.values\n",
    "\n",
    "for i in range(418):\n",
    "    if test_X[i,1] == 'male':\n",
    "        test_X[i,1] = 1\n",
    "    else:\n",
    "        test_X[i,1] = 0\n",
    "    if np.isnan(test_X[i,2]) == True:\n",
    "        test_X[i,2] = 0"
   ]
  },
  {
   "cell_type": "markdown",
   "metadata": {},
   "source": [
    "### Write the predictions into a listed array"
   ]
  },
  {
   "cell_type": "code",
   "execution_count": null,
   "metadata": {},
   "outputs": [],
   "source": [
    "predictions = model.predict(test_X)\n",
    "\n",
    "for i in range(418):\n",
    "    if predictions[i] > 0.5:\n",
    "        predictions[i] = 1\n",
    "        predictfile[i,1] = predictions[i]\n",
    "    else:\n",
    "        predictions[i] = 0\n",
    "        predictfile[i,1] = predictions[i]\n",
    "\n",
    "predictfile = predictfile.astype(np.int32)\n",
    "\n",
    "predictfile"
   ]
  },
  {
   "cell_type": "markdown",
   "metadata": {},
   "source": [
    "### Convert the predictions array into a csv file"
   ]
  },
  {
   "cell_type": "code",
   "execution_count": null,
   "metadata": {},
   "outputs": [],
   "source": [
    "predictfile = pd.DataFrame(predictfile, columns = ['PassengerId','Survived'])\n",
    "\n",
    "#Uncomment only to create file\n",
    "#predictfile.to_csv('Titanic_predictions.csv')"
   ]
  },
  {
   "cell_type": "code",
   "execution_count": null,
   "metadata": {},
   "outputs": [],
   "source": []
  }
 ],
 "metadata": {
  "kernelspec": {
   "display_name": "Python 3",
   "language": "python",
   "name": "python3"
  },
  "language_info": {
   "codemirror_mode": {
    "name": "ipython",
    "version": 3
   },
   "file_extension": ".py",
   "mimetype": "text/x-python",
   "name": "python",
   "nbconvert_exporter": "python",
   "pygments_lexer": "ipython3",
   "version": "3.7.0"
  }
 },
 "nbformat": 4,
 "nbformat_minor": 2
}
